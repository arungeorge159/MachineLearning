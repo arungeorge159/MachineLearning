{
  "cells": [
    {
      "cell_type": "markdown",
      "metadata": {
        "id": "xUSJ8gwbtqev"
      },
      "source": [
        "# Heart-Disease Classification\n",
        "Split → impute → scale → tune → evaluate (ROC-AUC + 90 % recall)"
      ]
    },
    {
      "cell_type": "code",
      "execution_count": 4,
      "metadata": {
        "id": "esX1M-Hutqev"
      },
      "outputs": [],
      "source": [
        "# ---------- 1. Imports ----------\n",
        "import numpy as np\n",
        "import pandas as pd\n",
        "import matplotlib.pyplot as plt\n",
        "import seaborn as sns\n",
        "\n",
        "from sklearn.model_selection import train_test_split, RandomizedSearchCV\n",
        "from sklearn.pipeline import Pipeline\n",
        "from sklearn.preprocessing import StandardScaler\n",
        "from sklearn.impute import SimpleImputer\n",
        "from sklearn.metrics import (roc_auc_score, recall_score, precision_score,\n",
        "                             RocCurveDisplay, confusion_matrix, ConfusionMatrixDisplay)\n",
        "\n",
        "from sklearn.linear_model import LogisticRegressionCV\n",
        "from sklearn.ensemble import RandomForestClassifier, GradientBoostingClassifier\n",
        "from sklearn.svm import SVC\n",
        "from sklearn.neighbors import KNeighborsClassifier\n",
        "from xgboost import XGBClassifier\n",
        "\n",
        "from scipy.stats import randint, uniform\n",
        "\n",
        "RANDOM_STATE = 42\n",
        "np.random.seed(RANDOM_STATE)"
      ]
    },
    {
      "cell_type": "code",
      "execution_count": 5,
      "metadata": {
        "id": "xDfr0Kehtqew"
      },
      "outputs": [],
      "source": [
        "# ---------- 2. Load data ----------\n",
        "df = pd.read_csv('/content/drive/MyDrive/01_Heart_Disease_Prediction/data/heart_disease_classification_dataset.csv')\n",
        "df = df.drop(columns=['Unnamed: 0'])\n",
        "\n",
        "# Encode categoricals\n",
        "df['sex']     = df['sex'].map({'female': 0, 'male': 1})\n",
        "df['target']  = df['target'].map({'no': 0, 'yes': 1})\n",
        "\n",
        "# Create X and y\n",
        "X = df.drop('target', axis=1)\n",
        "y = df['target']"
      ]
    },
    {
      "cell_type": "code",
      "source": [
        "from google.colab import drive\n",
        "drive.mount('/content/drive')"
      ],
      "metadata": {
        "colab": {
          "base_uri": "https://localhost:8080/"
        },
        "id": "84rtpLk6Yqz_",
        "outputId": "753020d0-219c-498c-d660-8b6eb97cee40"
      },
      "execution_count": 6,
      "outputs": [
        {
          "output_type": "stream",
          "name": "stdout",
          "text": [
            "Drive already mounted at /content/drive; to attempt to forcibly remount, call drive.mount(\"/content/drive\", force_remount=True).\n"
          ]
        }
      ]
    },
    {
      "cell_type": "markdown",
      "source": [],
      "metadata": {
        "id": "oYR6FB1JntcD"
      }
    },
    {
      "cell_type": "code",
      "execution_count": 7,
      "metadata": {
        "id": "nXEYQSRutqex"
      },
      "outputs": [],
      "source": [
        "# ---------- 3. Train-test split ----------\n",
        "X_train, X_test, y_train, y_test = train_test_split(\n",
        "    X, y, test_size=0.2, random_state=RANDOM_STATE, stratify=y)"
      ]
    },
    {
      "cell_type": "markdown",
      "source": [
        "### 🔧 Helper: `make_pipe` – turn any estimator into a full ML pipeline\n",
        "\n",
        "`make_pipe` is a tiny factory that wraps any scikit-learn estimator (classifier or regressor) into a **re-usable, 3-step pipeline**:\n",
        "\n",
        "1. **Impute missing values**  \n",
        "   `SimpleImputer(strategy='median')` replaces every missing entry in each numeric column with the **median** of that column.  \n",
        "   - Fast, robust to outliers, needs no target variable.  \n",
        "   - Works on both training and future data in the exact same way.\n",
        "\n",
        "2. **Standardize features**  \n",
        "   `StandardScaler()` subtracts the mean and divides by the standard deviation for every feature.  \n",
        "   - Centers the data at zero and gives it unit variance.  \n",
        "   - Critical for algorithms that rely on distance or gradient descent (SVM, logistic regression, neural nets, etc.).\n",
        "\n",
        "3. **Attach your estimator**  \n",
        "   The supplied `estimator` (e.g. `RandomForestClassifier()`, `LogisticRegression()`, `XGBRegressor()`, …) receives the clean, imputed, scaled data and learns the final model.\n"
      ],
      "metadata": {
        "id": "ML-pr8UYmwbD"
      }
    },
    {
      "cell_type": "code",
      "execution_count": 8,
      "metadata": {
        "id": "I1_4Ob-qtqex"
      },
      "outputs": [],
      "source": [
        "# ---------- 4. Helper: build pipeline ----------\n",
        "def make_pipe(estimator):\n",
        "    return Pipeline([\n",
        "        ('impute', SimpleImputer(strategy='median')),\n",
        "        ('scale',  StandardScaler()),\n",
        "        ('clf',    estimator)\n",
        "    ])"
      ]
    },
    {
      "cell_type": "markdown",
      "source": [
        "### 📦 Model Zoo – ready-to-train configurations for 5 algorithms\n",
        "\n",
        "The dictionary `models` packages every candidate into two consistent keys:  \n",
        "1. `pipe` – a **pre-processing + estimator** stack built by `make_pipe`.  \n",
        "2. `search` – the **hyper-parameter sampling space** for `RandomizedSearchCV`.  \n",
        "   If `search` is `None`, the model is already self-tuning.\n",
        "\n",
        "| key  | estimator in `pipe` | highlights | hyper-parameter distributions (`search`) |\n",
        "|---|---|---|---|\n",
        "| **logit** | `LogisticRegressionCV` | Auto-tunes `C` via 5-fold CV on ROC-AUC; `class_weight='balanced'` handles imbalance. | none – already tuned |\n",
        "| **rf** | `RandomForestClassifier` | Bagged trees; robust default learner. | `#trees`, `max_depth`, `min_samples_split`, `max_features` |\n",
        "| **gb** | `GradientBoostingClassifier` | Sequential boosting; good baseline before XGBoost. | `#trees`, `learning_rate`, `max_depth` |\n",
        "| **svm** | `SVC` | Large-margin + RBF; probabilities enabled for ROC. | `C`, `gamma`, `kernel` |\n",
        "| **knn** | `KNeighborsClassifier` | Instance-based baseline. | `#neighbors`, `weights`, `p` |\n",
        "| **xgb** | `XGBClassifier` | High-performance gradient boosting; native regularisation, subsampling, early-stopping-ready. | `n_estimators`, `max_depth`, `learning_rate`, `subsample`, `colsample_bytree`, `gamma`, `min_child_weight`, `reg_alpha`, `reg_lambda` |"
      ],
      "metadata": {
        "id": "T55SUtGKpK66"
      }
    },
    {
      "cell_type": "code",
      "execution_count": 9,
      "metadata": {
        "id": "F0dUUTdatqex"
      },
      "outputs": [],
      "source": [
        "# ---------- 5. Model configs ----------\n",
        "models = {\n",
        "    'logit': {\n",
        "        'pipe': make_pipe(LogisticRegressionCV(\n",
        "            Cs=10, cv=5, scoring='roc_auc', max_iter=1000,\n",
        "            class_weight='balanced', n_jobs=-1, random_state=RANDOM_STATE)),\n",
        "        'search': None\n",
        "    },\n",
        "    'rf': {\n",
        "        'pipe': make_pipe(RandomForestClassifier(\n",
        "            class_weight='balanced', random_state=RANDOM_STATE)),\n",
        "        'search': {\n",
        "            'clf__n_estimators': randint(100, 800),\n",
        "            'clf__max_depth':    randint(3, 12),\n",
        "            'clf__min_samples_split': randint(2, 20),\n",
        "            'clf__max_features': ['sqrt', 'log2', 0.5]\n",
        "        }\n",
        "    },\n",
        "    'gb': {\n",
        "        'pipe': make_pipe(GradientBoostingClassifier(random_state=RANDOM_STATE)),\n",
        "        'search': {\n",
        "            'clf__n_estimators':  randint(50, 400),\n",
        "            'clf__learning_rate': uniform(0.01, 0.3),\n",
        "            'clf__max_depth':     randint(2, 8)\n",
        "        }\n",
        "    },\n",
        "    'svm': {\n",
        "        'pipe': make_pipe(SVC(class_weight='balanced', probability=True,\n",
        "                              random_state=RANDOM_STATE)),\n",
        "        'search': {\n",
        "            'clf__C':      uniform(0.1, 100),\n",
        "            'clf__gamma':  uniform(0.001, 1),\n",
        "            'clf__kernel': ['rbf', 'linear']\n",
        "        }\n",
        "    },\n",
        "    'knn': {\n",
        "        'pipe': make_pipe(KNeighborsClassifier()),\n",
        "        'search': {\n",
        "            'clf__n_neighbors': randint(3, 30),\n",
        "            'clf__weights':     ['uniform', 'distance'],\n",
        "            'clf__p':           [1, 2]\n",
        "        }\n",
        "    },\n",
        "    'xgb': {\n",
        "        'pipe': make_pipe(XGBClassifier(\n",
        "          objective='binary:logistic',\n",
        "          eval_metric='auc',\n",
        "          n_jobs=-1,\n",
        "          random_state=RANDOM_STATE)),\n",
        "    'search': {\n",
        "        'clf__n_estimators':     randint(100, 1000),\n",
        "        'clf__max_depth':        randint(3, 12),\n",
        "        'clf__learning_rate':    uniform(0.01, 0.3),\n",
        "        'clf__subsample':        uniform(0.6, 0.4),  # 0.6–1.0\n",
        "        'clf__colsample_bytree': uniform(0.6, 0.4),\n",
        "        'clf__gamma':            uniform(0, 5),\n",
        "        'clf__min_child_weight': randint(1, 10),\n",
        "        'clf__reg_alpha':        uniform(0, 1),\n",
        "        'clf__reg_lambda':       uniform(0, 2)\n",
        "    }\n",
        "  }\n",
        "}"
      ]
    },
    {
      "cell_type": "code",
      "execution_count": 10,
      "metadata": {
        "colab": {
          "base_uri": "https://localhost:8080/"
        },
        "id": "fgYs-sFztqex",
        "outputId": "ea95fce5-7853-40ce-d7fb-aa067187d66a"
      },
      "outputs": [
        {
          "output_type": "stream",
          "name": "stdout",
          "text": [
            "\n",
            ">>> Tuning logit ...\n",
            "logit — CV AUC: 0.899  Test AUC: 0.883  Recall@90: 1.000\n",
            "\n",
            ">>> Tuning rf ...\n",
            "rf — CV AUC: 0.917  Test AUC: 0.908  Recall@90: 1.000\n",
            "\n",
            ">>> Tuning gb ...\n",
            "gb — CV AUC: 0.907  Test AUC: 0.899  Recall@90: 1.000\n",
            "\n",
            ">>> Tuning svm ...\n",
            "svm — CV AUC: 0.911  Test AUC: 0.876  Recall@90: 1.000\n",
            "\n",
            ">>> Tuning knn ...\n",
            "knn — CV AUC: 0.914  Test AUC: 0.935  Recall@90: 1.000\n",
            "\n",
            ">>> Tuning xgb ...\n",
            "xgb — CV AUC: 0.920  Test AUC: 0.880  Recall@90: 1.000\n"
          ]
        }
      ],
      "source": [
        "# ---------- 6. Train & tune ----------\n",
        "results = {}\n",
        "\n",
        "for name, cfg in models.items():\n",
        "    print(f\"\\n>>> Tuning {name} ...\")\n",
        "    if cfg['search'] is None:  # Logit\n",
        "        model = cfg['pipe']\n",
        "        model.fit(X_train, y_train)\n",
        "        best_est = model\n",
        "        cv_score = model.named_steps['clf'].scores_[1].mean()\n",
        "    else:\n",
        "        search = RandomizedSearchCV(\n",
        "            cfg['pipe'], cfg['search'],\n",
        "            n_iter=40, cv=5, scoring='roc_auc',\n",
        "            n_jobs=-1, random_state=RANDOM_STATE)\n",
        "        search.fit(X_train, y_train)\n",
        "        best_est = search.best_estimator_\n",
        "        cv_score = search.best_score_\n",
        "\n",
        "    y_prob = best_est.predict_proba(X_test)[:, 1]\n",
        "    test_auc = roc_auc_score(y_test, y_prob)\n",
        "\n",
        "    # threshold for 90 % recall\n",
        "    from sklearn.metrics import precision_recall_curve\n",
        "    precisions, recalls, thresholds = precision_recall_curve(y_test, y_prob)\n",
        "    idx = np.argmax(recalls >= 0.90)\n",
        "    thresh = thresholds[idx] if idx < len(thresholds) else 0.5\n",
        "    y_pred = (y_prob >= thresh).astype(int)\n",
        "    recall = recall_score(y_test, y_pred)\n",
        "\n",
        "    results[name] = {\n",
        "        'cv_auc': cv_score,\n",
        "        'test_auc': test_auc,\n",
        "        'threshold': thresh,\n",
        "        'recall@90': recall,\n",
        "        'estimator': best_est\n",
        "    }\n",
        "    print(f\"{name} — CV AUC: {cv_score:.3f}  Test AUC: {test_auc:.3f}  Recall@90: {recall:.3f}\")"
      ]
    },
    {
      "cell_type": "code",
      "execution_count": 11,
      "metadata": {
        "colab": {
          "base_uri": "https://localhost:8080/",
          "height": 237
        },
        "id": "zLgyHmaKtqey",
        "outputId": "f482d1ec-b483-4238-eec7-4a9c5ae1f9a4"
      },
      "outputs": [
        {
          "output_type": "execute_result",
          "data": {
            "text/plain": [
              "         CV AUC  Test AUC  Recall@90\n",
              "knn    0.914213  0.934524        1.0\n",
              "rf     0.917301  0.908009        1.0\n",
              "gb     0.906566  0.899351        1.0\n",
              "logit  0.899257  0.883117        1.0\n",
              "xgb    0.919801  0.879870        1.0\n",
              "svm    0.910632  0.875541        1.0"
            ],
            "text/html": [
              "\n",
              "  <div id=\"df-2208b5f5-2579-407d-86f9-942d6d859d01\" class=\"colab-df-container\">\n",
              "    <div>\n",
              "<style scoped>\n",
              "    .dataframe tbody tr th:only-of-type {\n",
              "        vertical-align: middle;\n",
              "    }\n",
              "\n",
              "    .dataframe tbody tr th {\n",
              "        vertical-align: top;\n",
              "    }\n",
              "\n",
              "    .dataframe thead th {\n",
              "        text-align: right;\n",
              "    }\n",
              "</style>\n",
              "<table border=\"1\" class=\"dataframe\">\n",
              "  <thead>\n",
              "    <tr style=\"text-align: right;\">\n",
              "      <th></th>\n",
              "      <th>CV AUC</th>\n",
              "      <th>Test AUC</th>\n",
              "      <th>Recall@90</th>\n",
              "    </tr>\n",
              "  </thead>\n",
              "  <tbody>\n",
              "    <tr>\n",
              "      <th>knn</th>\n",
              "      <td>0.914213</td>\n",
              "      <td>0.934524</td>\n",
              "      <td>1.0</td>\n",
              "    </tr>\n",
              "    <tr>\n",
              "      <th>rf</th>\n",
              "      <td>0.917301</td>\n",
              "      <td>0.908009</td>\n",
              "      <td>1.0</td>\n",
              "    </tr>\n",
              "    <tr>\n",
              "      <th>gb</th>\n",
              "      <td>0.906566</td>\n",
              "      <td>0.899351</td>\n",
              "      <td>1.0</td>\n",
              "    </tr>\n",
              "    <tr>\n",
              "      <th>logit</th>\n",
              "      <td>0.899257</td>\n",
              "      <td>0.883117</td>\n",
              "      <td>1.0</td>\n",
              "    </tr>\n",
              "    <tr>\n",
              "      <th>xgb</th>\n",
              "      <td>0.919801</td>\n",
              "      <td>0.879870</td>\n",
              "      <td>1.0</td>\n",
              "    </tr>\n",
              "    <tr>\n",
              "      <th>svm</th>\n",
              "      <td>0.910632</td>\n",
              "      <td>0.875541</td>\n",
              "      <td>1.0</td>\n",
              "    </tr>\n",
              "  </tbody>\n",
              "</table>\n",
              "</div>\n",
              "    <div class=\"colab-df-buttons\">\n",
              "\n",
              "  <div class=\"colab-df-container\">\n",
              "    <button class=\"colab-df-convert\" onclick=\"convertToInteractive('df-2208b5f5-2579-407d-86f9-942d6d859d01')\"\n",
              "            title=\"Convert this dataframe to an interactive table.\"\n",
              "            style=\"display:none;\">\n",
              "\n",
              "  <svg xmlns=\"http://www.w3.org/2000/svg\" height=\"24px\" viewBox=\"0 -960 960 960\">\n",
              "    <path d=\"M120-120v-720h720v720H120Zm60-500h600v-160H180v160Zm220 220h160v-160H400v160Zm0 220h160v-160H400v160ZM180-400h160v-160H180v160Zm440 0h160v-160H620v160ZM180-180h160v-160H180v160Zm440 0h160v-160H620v160Z\"/>\n",
              "  </svg>\n",
              "    </button>\n",
              "\n",
              "  <style>\n",
              "    .colab-df-container {\n",
              "      display:flex;\n",
              "      gap: 12px;\n",
              "    }\n",
              "\n",
              "    .colab-df-convert {\n",
              "      background-color: #E8F0FE;\n",
              "      border: none;\n",
              "      border-radius: 50%;\n",
              "      cursor: pointer;\n",
              "      display: none;\n",
              "      fill: #1967D2;\n",
              "      height: 32px;\n",
              "      padding: 0 0 0 0;\n",
              "      width: 32px;\n",
              "    }\n",
              "\n",
              "    .colab-df-convert:hover {\n",
              "      background-color: #E2EBFA;\n",
              "      box-shadow: 0px 1px 2px rgba(60, 64, 67, 0.3), 0px 1px 3px 1px rgba(60, 64, 67, 0.15);\n",
              "      fill: #174EA6;\n",
              "    }\n",
              "\n",
              "    .colab-df-buttons div {\n",
              "      margin-bottom: 4px;\n",
              "    }\n",
              "\n",
              "    [theme=dark] .colab-df-convert {\n",
              "      background-color: #3B4455;\n",
              "      fill: #D2E3FC;\n",
              "    }\n",
              "\n",
              "    [theme=dark] .colab-df-convert:hover {\n",
              "      background-color: #434B5C;\n",
              "      box-shadow: 0px 1px 3px 1px rgba(0, 0, 0, 0.15);\n",
              "      filter: drop-shadow(0px 1px 2px rgba(0, 0, 0, 0.3));\n",
              "      fill: #FFFFFF;\n",
              "    }\n",
              "  </style>\n",
              "\n",
              "    <script>\n",
              "      const buttonEl =\n",
              "        document.querySelector('#df-2208b5f5-2579-407d-86f9-942d6d859d01 button.colab-df-convert');\n",
              "      buttonEl.style.display =\n",
              "        google.colab.kernel.accessAllowed ? 'block' : 'none';\n",
              "\n",
              "      async function convertToInteractive(key) {\n",
              "        const element = document.querySelector('#df-2208b5f5-2579-407d-86f9-942d6d859d01');\n",
              "        const dataTable =\n",
              "          await google.colab.kernel.invokeFunction('convertToInteractive',\n",
              "                                                    [key], {});\n",
              "        if (!dataTable) return;\n",
              "\n",
              "        const docLinkHtml = 'Like what you see? Visit the ' +\n",
              "          '<a target=\"_blank\" href=https://colab.research.google.com/notebooks/data_table.ipynb>data table notebook</a>'\n",
              "          + ' to learn more about interactive tables.';\n",
              "        element.innerHTML = '';\n",
              "        dataTable['output_type'] = 'display_data';\n",
              "        await google.colab.output.renderOutput(dataTable, element);\n",
              "        const docLink = document.createElement('div');\n",
              "        docLink.innerHTML = docLinkHtml;\n",
              "        element.appendChild(docLink);\n",
              "      }\n",
              "    </script>\n",
              "  </div>\n",
              "\n",
              "\n",
              "    <div id=\"df-5b1a287e-cfb3-4d85-8e51-99a6805646b4\">\n",
              "      <button class=\"colab-df-quickchart\" onclick=\"quickchart('df-5b1a287e-cfb3-4d85-8e51-99a6805646b4')\"\n",
              "                title=\"Suggest charts\"\n",
              "                style=\"display:none;\">\n",
              "\n",
              "<svg xmlns=\"http://www.w3.org/2000/svg\" height=\"24px\"viewBox=\"0 0 24 24\"\n",
              "     width=\"24px\">\n",
              "    <g>\n",
              "        <path d=\"M19 3H5c-1.1 0-2 .9-2 2v14c0 1.1.9 2 2 2h14c1.1 0 2-.9 2-2V5c0-1.1-.9-2-2-2zM9 17H7v-7h2v7zm4 0h-2V7h2v10zm4 0h-2v-4h2v4z\"/>\n",
              "    </g>\n",
              "</svg>\n",
              "      </button>\n",
              "\n",
              "<style>\n",
              "  .colab-df-quickchart {\n",
              "      --bg-color: #E8F0FE;\n",
              "      --fill-color: #1967D2;\n",
              "      --hover-bg-color: #E2EBFA;\n",
              "      --hover-fill-color: #174EA6;\n",
              "      --disabled-fill-color: #AAA;\n",
              "      --disabled-bg-color: #DDD;\n",
              "  }\n",
              "\n",
              "  [theme=dark] .colab-df-quickchart {\n",
              "      --bg-color: #3B4455;\n",
              "      --fill-color: #D2E3FC;\n",
              "      --hover-bg-color: #434B5C;\n",
              "      --hover-fill-color: #FFFFFF;\n",
              "      --disabled-bg-color: #3B4455;\n",
              "      --disabled-fill-color: #666;\n",
              "  }\n",
              "\n",
              "  .colab-df-quickchart {\n",
              "    background-color: var(--bg-color);\n",
              "    border: none;\n",
              "    border-radius: 50%;\n",
              "    cursor: pointer;\n",
              "    display: none;\n",
              "    fill: var(--fill-color);\n",
              "    height: 32px;\n",
              "    padding: 0;\n",
              "    width: 32px;\n",
              "  }\n",
              "\n",
              "  .colab-df-quickchart:hover {\n",
              "    background-color: var(--hover-bg-color);\n",
              "    box-shadow: 0 1px 2px rgba(60, 64, 67, 0.3), 0 1px 3px 1px rgba(60, 64, 67, 0.15);\n",
              "    fill: var(--button-hover-fill-color);\n",
              "  }\n",
              "\n",
              "  .colab-df-quickchart-complete:disabled,\n",
              "  .colab-df-quickchart-complete:disabled:hover {\n",
              "    background-color: var(--disabled-bg-color);\n",
              "    fill: var(--disabled-fill-color);\n",
              "    box-shadow: none;\n",
              "  }\n",
              "\n",
              "  .colab-df-spinner {\n",
              "    border: 2px solid var(--fill-color);\n",
              "    border-color: transparent;\n",
              "    border-bottom-color: var(--fill-color);\n",
              "    animation:\n",
              "      spin 1s steps(1) infinite;\n",
              "  }\n",
              "\n",
              "  @keyframes spin {\n",
              "    0% {\n",
              "      border-color: transparent;\n",
              "      border-bottom-color: var(--fill-color);\n",
              "      border-left-color: var(--fill-color);\n",
              "    }\n",
              "    20% {\n",
              "      border-color: transparent;\n",
              "      border-left-color: var(--fill-color);\n",
              "      border-top-color: var(--fill-color);\n",
              "    }\n",
              "    30% {\n",
              "      border-color: transparent;\n",
              "      border-left-color: var(--fill-color);\n",
              "      border-top-color: var(--fill-color);\n",
              "      border-right-color: var(--fill-color);\n",
              "    }\n",
              "    40% {\n",
              "      border-color: transparent;\n",
              "      border-right-color: var(--fill-color);\n",
              "      border-top-color: var(--fill-color);\n",
              "    }\n",
              "    60% {\n",
              "      border-color: transparent;\n",
              "      border-right-color: var(--fill-color);\n",
              "    }\n",
              "    80% {\n",
              "      border-color: transparent;\n",
              "      border-right-color: var(--fill-color);\n",
              "      border-bottom-color: var(--fill-color);\n",
              "    }\n",
              "    90% {\n",
              "      border-color: transparent;\n",
              "      border-bottom-color: var(--fill-color);\n",
              "    }\n",
              "  }\n",
              "</style>\n",
              "\n",
              "      <script>\n",
              "        async function quickchart(key) {\n",
              "          const quickchartButtonEl =\n",
              "            document.querySelector('#' + key + ' button');\n",
              "          quickchartButtonEl.disabled = true;  // To prevent multiple clicks.\n",
              "          quickchartButtonEl.classList.add('colab-df-spinner');\n",
              "          try {\n",
              "            const charts = await google.colab.kernel.invokeFunction(\n",
              "                'suggestCharts', [key], {});\n",
              "          } catch (error) {\n",
              "            console.error('Error during call to suggestCharts:', error);\n",
              "          }\n",
              "          quickchartButtonEl.classList.remove('colab-df-spinner');\n",
              "          quickchartButtonEl.classList.add('colab-df-quickchart-complete');\n",
              "        }\n",
              "        (() => {\n",
              "          let quickchartButtonEl =\n",
              "            document.querySelector('#df-5b1a287e-cfb3-4d85-8e51-99a6805646b4 button');\n",
              "          quickchartButtonEl.style.display =\n",
              "            google.colab.kernel.accessAllowed ? 'block' : 'none';\n",
              "        })();\n",
              "      </script>\n",
              "    </div>\n",
              "\n",
              "    </div>\n",
              "  </div>\n"
            ],
            "application/vnd.google.colaboratory.intrinsic+json": {
              "type": "dataframe",
              "summary": "{\n  \"name\": \"summary\",\n  \"rows\": 6,\n  \"fields\": [\n    {\n      \"column\": \"CV AUC\",\n      \"properties\": {\n        \"dtype\": \"number\",\n        \"std\": 0.007545325702845947,\n        \"min\": 0.8992566692566691,\n        \"max\": 0.9198005698005698,\n        \"num_unique_values\": 6,\n        \"samples\": [\n          0.9142126392126391,\n          0.9173012173012174,\n          0.9106319606319607\n        ],\n        \"semantic_type\": \"\",\n        \"description\": \"\"\n      }\n    },\n    {\n      \"column\": \"Test AUC\",\n      \"properties\": {\n        \"dtype\": \"number\",\n        \"std\": 0.022275494957032738,\n        \"min\": 0.8755411255411255,\n        \"max\": 0.9345238095238094,\n        \"num_unique_values\": 6,\n        \"samples\": [\n          0.9345238095238094,\n          0.9080086580086579,\n          0.8755411255411255\n        ],\n        \"semantic_type\": \"\",\n        \"description\": \"\"\n      }\n    },\n    {\n      \"column\": \"Recall@90\",\n      \"properties\": {\n        \"dtype\": \"number\",\n        \"std\": 0.0,\n        \"min\": 1.0,\n        \"max\": 1.0,\n        \"num_unique_values\": 1,\n        \"samples\": [\n          1.0\n        ],\n        \"semantic_type\": \"\",\n        \"description\": \"\"\n      }\n    }\n  ]\n}"
            }
          },
          "metadata": {},
          "execution_count": 11
        }
      ],
      "source": [
        "# ---------- 7. Summary ----------\n",
        "summary = pd.DataFrame({k: [results[k]['cv_auc'],\n",
        "                            results[k]['test_auc'],\n",
        "                            results[k]['recall@90']] for k in results},\n",
        "                       index=['CV AUC', 'Test AUC', 'Recall@90']).T\n",
        "summary.sort_values('Test AUC', ascending=False)"
      ]
    },
    {
      "cell_type": "code",
      "execution_count": 12,
      "metadata": {
        "colab": {
          "base_uri": "https://localhost:8080/",
          "height": 472
        },
        "id": "xeC9MGRctqey",
        "outputId": "1b582c71-26ad-4f3c-e549-81b30c238115"
      },
      "outputs": [
        {
          "output_type": "display_data",
          "data": {
            "text/plain": [
              "<Figure size 640x480 with 1 Axes>"
            ],
            "image/png": "[encoded data removed]"
          },
          "metadata": {}
        }
      ],
      "source": [
        "# ---------- 8. ROC curve ----------\n",
        "best_name = summary.idxmax()['Test AUC']\n",
        "best_model = results[best_name]['estimator']\n",
        "y_prob_best = best_model.predict_proba(X_test)[:, 1]\n",
        "\n",
        "RocCurveDisplay.from_predictions(y_test, y_prob_best)\n",
        "plt.title(f'ROC – {best_name}')\n",
        "plt.show()"
      ]
    },
    {
      "cell_type": "code",
      "execution_count": 13,
      "metadata": {
        "colab": {
          "base_uri": "https://localhost:8080/",
          "height": 472
        },
        "id": "hGsiwDuRtqey",
        "outputId": "23287bf4-61a8-4a34-ed37-a73bae38def3"
      },
      "outputs": [
        {
          "output_type": "display_data",
          "data": {
            "text/plain": [
              "<Figure size 640x480 with 2 Axes>"
            ],
            "image/png": "[encoded data removed]"
          },
          "metadata": {}
        }
      ],
      "source": [
        "# ---------- 9. Confusion matrix ----------\n",
        "thresh = results[best_name]['threshold']\n",
        "y_pred_best = (y_prob_best >= thresh).astype(int)\n",
        "\n",
        "cm = confusion_matrix(y_test, y_pred_best)\n",
        "disp = ConfusionMatrixDisplay(confusion_matrix=cm,\n",
        "                              display_labels=['No disease', 'Disease'])\n",
        "disp.plot(cmap='Blues')\n",
        "plt.title(f'{best_name} – threshold = {thresh:.2f}')\n",
        "plt.show()"
      ]
    },
    {
      "cell_type": "code",
      "source": [
        "# ---------- 6. Fit & evaluate ----------\n",
        "from sklearn.model_selection import RandomizedSearchCV\n",
        "from sklearn.metrics import roc_auc_score, RocCurveDisplay\n",
        "import matplotlib.pyplot as plt\n",
        "\n",
        "# pick an algorithm from the zoo\n",
        "name = 'xgb'\n",
        "pipe  = models[name]['pipe']\n",
        "space = models[name]['search']\n",
        "\n",
        "# 1. Hyper-parameter search (skip if search is None)\n",
        "if space is None:          # e.g. LogisticRegressionCV\n",
        "    best_model = pipe.fit(X_train, y_train)\n",
        "else:\n",
        "    rs = RandomizedSearchCV(\n",
        "            pipe, space,\n",
        "            n_iter=50,\n",
        "            cv=5,\n",
        "            scoring='roc_auc',\n",
        "            n_jobs=-1,\n",
        "            random_state=RANDOM_STATE,\n",
        "            verbose=1)\n",
        "    rs.fit(X_train, y_train)\n",
        "    best_model = rs.best_estimator_\n",
        "    print(f\"Best params: {rs.best_params_}\")\n",
        "\n",
        "# 2. Hold-out test score\n",
        "y_prob = best_model.predict_proba(X_test)[:, 1]\n",
        "test_auc = roc_auc_score(y_test, y_prob)\n",
        "print(f\"{name.upper()}  test AUC: {test_auc:.4f}\")\n",
        "\n",
        "# 3. Quick ROC plot\n",
        "RocCurveDisplay.from_predictions(y_test, y_prob)\n",
        "plt.title(f\"{name.upper()}  ROC curve (AUC = {test_auc:.3f})\")\n",
        "plt.show()"
      ],
      "metadata": {
        "colab": {
          "base_uri": "https://localhost:8080/",
          "height": 546
        },
        "id": "s0HHsZZTGSeU",
        "outputId": "16727caa-e88e-422b-feba-f197c94f9862"
      },
      "execution_count": 14,
      "outputs": [
        {
          "output_type": "stream",
          "name": "stdout",
          "text": [
            "Fitting 5 folds for each of 50 candidates, totalling 250 fits\n",
            "Best params: {'clf__colsample_bytree': np.float64(0.7465447373174767), 'clf__gamma': np.float64(2.28034992108518), 'clf__learning_rate': np.float64(0.24555278841790407), 'clf__max_depth': 5, 'clf__min_child_weight': 7, 'clf__n_estimators': 343, 'clf__reg_alpha': np.float64(0.5924145688620425), 'clf__reg_lambda': np.float64(0.09290082543999545), 'clf__subsample': np.float64(0.8430179407605753)}\n",
            "XGB  test AUC: 0.8799\n"
          ]
        },
        {
          "output_type": "display_data",
          "data": {
            "text/plain": [
              "<Figure size 640x480 with 1 Axes>"
            ],
            "image/png": "[encoded data removed]"
          },
          "metadata": {}
        }
      ]
    },
    {
      "cell_type": "code",
      "source": [
        "# ---------- 6. Fit & evaluate ----------\n",
        "from sklearn.model_selection import RandomizedSearchCV\n",
        "from sklearn.metrics import roc_auc_score, RocCurveDisplay\n",
        "import matplotlib.pyplot as plt\n",
        "\n",
        "# pick an algorithm from the zoo\n",
        "name = 'knn'\n",
        "pipe  = models[name]['pipe']\n",
        "space = models[name]['search']\n",
        "\n",
        "# 1. Hyper-parameter search (skip if search is None)\n",
        "if space is None:          # e.g. LogisticRegressionCV\n",
        "    best_model = pipe.fit(X_train, y_train)\n",
        "else:\n",
        "    rs = RandomizedSearchCV(\n",
        "            pipe, space,\n",
        "            n_iter=50,\n",
        "            cv=5,\n",
        "            scoring='roc_auc',\n",
        "            n_jobs=-1,\n",
        "            random_state=RANDOM_STATE,\n",
        "            verbose=1)\n",
        "    rs.fit(X_train, y_train)\n",
        "    best_model = rs.best_estimator_\n",
        "    print(f\"Best params: {rs.best_params_}\")\n",
        "\n",
        "# 2. Hold-out test score\n",
        "y_prob = best_model.predict_proba(X_test)[:, 1]\n",
        "test_auc = roc_auc_score(y_test, y_prob)\n",
        "print(f\"{name.upper()}  test AUC: {test_auc:.4f}\")\n",
        "\n",
        "# 3. Quick ROC plot\n",
        "RocCurveDisplay.from_predictions(y_test, y_prob)\n",
        "plt.title(f\"{name.upper()}  ROC curve (AUC = {test_auc:.3f})\")\n",
        "plt.show()"
      ],
      "metadata": {
        "id": "oMPsIsAOGiDf",
        "outputId": "fd6484a6-ec52-4966-efb1-94ef37a2a3ac",
        "colab": {
          "base_uri": "https://localhost:8080/",
          "height": 526
        }
      },
      "execution_count": 15,
      "outputs": [
        {
          "output_type": "stream",
          "name": "stdout",
          "text": [
            "Fitting 5 folds for each of 50 candidates, totalling 250 fits\n",
            "Best params: {'clf__n_neighbors': 27, 'clf__p': 1, 'clf__weights': 'uniform'}\n",
            "KNN  test AUC: 0.9345\n"
          ]
        },
        {
          "output_type": "display_data",
          "data": {
            "text/plain": [
              "<Figure size 640x480 with 1 Axes>"
            ],
            "image/png": "[encoded data removed]"
          },
          "metadata": {}
        }
      ]
    },
    {
      "cell_type": "code",
      "source": [],
      "metadata": {
        "id": "86a8sz_bGjhk"
      },
      "execution_count": 15,
      "outputs": []
    }
  ],
  "metadata": {
    "kernelspec": {
      "display_name": "Python 3",
      "language": "python",
      "name": "python3"
    },
    "language_info": {
      "codemirror_mode": {
        "name": "ipython",
        "version": 3
      },
      "file_extension": ".py",
      "mimetype": "text/x-python",
      "name": "python",
      "nbconvert_exporter": "python",
      "pygments_lexer": "ipython3",
      "version": "3.13.5"
    },
    "colab": {
      "provenance": []
    }
  },
  "nbformat": 4,
  "nbformat_minor": 0
}